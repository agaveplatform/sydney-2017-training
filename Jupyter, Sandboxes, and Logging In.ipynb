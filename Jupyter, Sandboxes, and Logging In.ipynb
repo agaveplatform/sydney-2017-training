{
 "cells": [
  {
   "cell_type": "markdown",
   "metadata": {},
   "source": [
    "# Jupyter environment\n",
    "\n",
    "The Jupyter is an open-source web application that allows you to create and share documents that contain live code, equations, visualizations and explanatory text. Uses include: data cleaning and transformation, numerical simulation, statistical modeling, machine learning and much more.\n",
    "\n",
    "[Website](http://jupyter.org/) [Project repository](https://github.com/jupyter)\n",
    "\n",
    "We will be using a Jupyter server as the primary web interface for this workshop. Several notebooks have been provided to you, in advance, to guide you through the workshop. After the workshop, you may use the [Agave Jupyter image](https://hub.docker.com/r/agaveplatform/jupyter-notebook/) to recreate the notebook server and repeat the workshop, or continue on with your own work at your leisure.  \n",
    "\n",
    "The Agave image has several customizations to facilitate use of the platform and ease much of the heavy lifting done behind the scenes in this tutorial.\n",
    "\n",
    "\n",
    "### Custom Kernels\n",
    "\n",
    "Your Jupyter server has multiple kernels available for use right away. We have preconfigured them with several useful libraries and tools to help users get up and running with common tasks easier. Additionally, we have bundled in Agave CLI and Python SDK into the Bash, Python 2, and Python 3 kernels respectively. Both kernels are pre-authenticated with valid Agave auth tokens that you can use to begin interacting with the Agave Platform right away.\n",
    "\n",
    "\n",
    "### Shared file system\n",
    "\n",
    "Your home directory on the Jupyter server is shared with your sandbox, so you can safely copy data between the two environments quickly and easily.\n",
    "\n",
    "\n",
    "### Web console  \n",
    "\n",
    "Jupyter contains a web terminal that can be used to access your sandbox environment or interact with the Jupyter container itself. To login to your sandbox from the Jupyter web terminal, simply run the following command:  \n",
    "\n",
    "```\n",
    "ssh -p 10022 $VM_IPADDRESS\n",
    "```  \n",
    "\n",
    "### Tutorial notebooks  \n",
    "\n",
    "This tutorial is presented as a series of Jupyter notebooks. If you are attending this tutorial in person, you will download the notebooks into the home directory of your notebook server. If you are following along after the fact, you should download the notebooks from the github repository into your Jupyter workspace.\n",
    "\n",
    "```\n",
    "git clone --depth 1 https://github.com/agaveplatform/nectar-2017-workshop.git \n",
    "``` \n",
    "\n",
    "### API access  \n",
    "\n",
    "The tutorial walks you through the process of obtaining a set of API keys an authenticating to the Agave Platform. Once this is done, you no longer need to authenticate to follow the tutorial. Both the Agave CLI and Python SDK will be picked up your authorization cache and automatically refresh it as needed.\n",
    "\n",
    "### Extras\n",
    "\n",
    "Inside of the `examples` directory, you will find several notebooks to help you learn more about the Agave platform, containers, and SciOps. We leave these for you to follow after the tutorial.\n"
   ]
  },
  {
   "cell_type": "markdown",
   "metadata": {},
   "source": [
    "<hr>"
   ]
  },
  {
   "cell_type": "markdown",
   "metadata": {},
   "source": [
    "# Sandbox environment\n",
    "\n",
    "The tutorial sandbox is a full Ubuntu 16.04 server running as a Docker container on a VM dedicated for your use in this tutorial. The sandbox has a standard HPC build environment with OpenMPI, Python 2, Python 3, build-essential, gfortran, openssl, git, jq, vim, and a host of other utilities. \n",
    "\n",
    "### Container runtimes  \n",
    "\n",
    "Docker and Singularity are both pre-installed in your Sandbox. All images used in this tutorial are available from the public Agave Docker Hub and Singularity Hub accounts. You may also use your own private registry accounts. You will need to login to the respective registries on your own.\n",
    "\n",
    "\n",
    "### Funwave example code  \n",
    "\n",
    "The sample code for this project is already present in `$HOME/FUNWAVE-TVD`.\n",
    "\n",
    "\n",
    "### Shared file system\n",
    "\n",
    "Your `$HOME/work` directory on the Jupyter server is shared with your sandbox, so you can safely copy data between the two environments quickly and easily.\n",
    "\n",
    "\n",
    "### Accessibility  \n",
    "\n",
    "To login to the sandbox from outside the Jupyter server, use the host IP address. You will find the public IP address of your sandbox in the `$VM_IPADDRESS` environment variable. Valid ssh keys are available in the `~/.ssh` director of your Jupyter server. Alternatively, you can append your own public key to the `$HOME/.ssh/authorized_keys` file.  \n",
    "\n",
    "```\n",
    "ssh -i /path/to/private/key.pem -p 10022 jovyan@$VM_IPADDRESS\n",
    "```\n",
    "\n",
    "### Persistence\n",
    "\n",
    "Your VM will remain available for 1-2 days following the tutorial. During that time, your data will remain available.  After that, the VM an any data saved with it will be destroyed. If you need to persist your data, it is recommended that you move it to another host, or [create your own account](https://public.agaveapi.co/create_account) in the Agave public tenant and save your data in the free cloud storage provied to you by default there.  \n",
    "\n"
   ]
  },
  {
   "cell_type": "markdown",
   "metadata": {},
   "source": [
    "<hr>"
   ]
  },
  {
   "cell_type": "markdown",
   "metadata": {},
   "source": [
    "# Logging In\n",
    "\n",
    "We have already configured resources for you to use in this tutorial. \n",
    "\n",
    "### Virtual Machine\n",
    "\n",
    "Each of you have a dedicated VM provided by the [Nectar Cloud](https://nectar.org.au/cloudpage/). You will use this VM for the duration of the tutorial. \n",
    "\n",
    "### Training Account\n",
    "\n",
    "A training account on the Agave Platform's public tenant has also been allocated to you.\n",
    "\n",
    "\n",
    "### Login\n",
    "\n",
    "Your Jupyter server is available at `<username>.sydney.training.agaveplatform.org`. \n",
    "\n",
    "Usernames will be training001 to training030. We will count off to determine our instance.\n",
    "\n",
    "When you first login, you will find it empty, save for a notebook named [INSTALL.ipynb](INSTALL.ipynb)\". Open this notebook by clicking on the notebook name, then click the *\"run\"* button. This will fetch all the tutorial notebooks from the tutorial's git repository an add them to your workspace. \n",
    "\n",
    "Once complete, open the [Config](Config.ipynb) notebook to being the meat of our tutorial."
   ]
  },
  {
   "cell_type": "markdown",
   "metadata": {
    "collapsed": true
   },
   "source": [
    "<hr>"
   ]
  },
  {
   "cell_type": "markdown",
   "metadata": {},
   "source": [
    "# Following along at home\n",
    "\n",
    "If you are following along with this tutorial at home, you can recreate the tutorial Jupyter server and sandbox environments by running the containers on your own server using the following Docker Compose file. \n",
    "\n",
    "```\n",
    "version: '2'\n",
    "\n",
    "volumes:\n",
    "  training-volume:\n",
    "  \n",
    "services:\n",
    "  jupyter:\n",
    "    image: agaveplatform/jupyter-notebook:latest\n",
    "    command: start-notebook.sh --NotebookApp.token=''\n",
    "    mem_limit: 2048m\n",
    "    ports:\n",
    "      - '80:8005'\n",
    "    environment:\n",
    "      - VM_MACHINE=training-node-${YOUR AGAVE USERNAME}\n",
    "      - VM_IPADDRESS=${YOUR PUBLIC IP ADDRESS}\n",
    "      - VM_HOSTNAME=training-node-${YOUR AGAVE USERNAME}\n",
    "      - USE_TUNNEL=False\n",
    "      - ENVIRONMENT=training\n",
    "      - AGAVE_USERNAME=${YOUR AGAVE USERNAME}\n",
    "      - AGAVE_CACHE_DIR=/home/jovyan/work/.agave\n",
    "      - AGAVE_JSON_PARSER=jq\n",
    "    volumes:\n",
    "      - training-volume:/home/jovyan/work\n",
    "  sandbox:\n",
    "    image: agaveplatform/sc17-sandbox:latest\n",
    "    mem_limit: 2048m\n",
    "    privileged: True\n",
    "    ports:\n",
    "      - '10022:22'\n",
    "    environment:\n",
    "      - VM_MACHINE=training-node-${YOUR AGAVE USERNAME}\n",
    "      - NGROK_TOKEN=${YOUR NGROK Token}\n",
    "      - USE_TUNNEL=True\n",
    "      - ENVIRONMENT=training\n",
    "      - AGAVE_USERNAME=${YOUR AGAVE USERNAME}\n",
    "      - AGAVE_CACHE_DIR=/home/jovyan/work/.agave\n",
    "      - AGAVE_JSON_PARSER=jq\n",
    "    volumes:\n",
    "      - training-volume:/home/jovyan/work\n",
    "      - /var/run/docker.sock:/var/run/docker.sock\n",
    "      - $HOME/.docker:/home/jovyan/.docker:ro\n",
    "\n",
    "```\n",
    "\n",
    "> If you do not have a public ip address on your Docker host, you will need to run a tunnel to a publicly accessible host and update the `VM_IPADDRESS`, `VM_HOSTNAME`, and `VM_SSH_PORT` to point to the public relay server. We recommend using the free [ngrok](https://ngrok.com) service for this.\n"
   ]
  },
  {
   "cell_type": "code",
   "execution_count": null,
   "metadata": {
    "collapsed": true
   },
   "outputs": [],
   "source": []
  }
 ],
 "metadata": {
  "kernelspec": {
   "display_name": "Python 3",
   "language": "python",
   "name": "python3"
  },
  "language_info": {
   "codemirror_mode": {
    "name": "ipython",
    "version": 3
   },
   "file_extension": ".py",
   "mimetype": "text/x-python",
   "name": "python",
   "nbconvert_exporter": "python",
   "pygments_lexer": "ipython3",
   "version": "3.6.2"
  }
 },
 "nbformat": 4,
 "nbformat_minor": 2
}
