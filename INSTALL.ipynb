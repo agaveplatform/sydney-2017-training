{
 "cells": [
  {
   "cell_type": "markdown",
   "metadata": {},
   "source": [
    "# Tutorial installation  \n",
    "\n",
    "Please run this notebook to completion to install the latest version of the tutorial notebooks on this Jupyter server."
   ]
  },
  {
   "cell_type": "code",
   "execution_count": null,
   "metadata": {
    "collapsed": true
   },
   "outputs": [],
   "source": [
    "# setting up a temp directory to checkout the git repository\n",
    "export TUTORIAL_FOLDER=\"$HOME/tutorial-$(date +%s)\"\n",
    "echo $TUTORIAL_FOLDER"
   ]
  },
  {
   "cell_type": "code",
   "execution_count": null,
   "metadata": {
    "collapsed": true
   },
   "outputs": [],
   "source": [
    "# check out the git repository\n",
    "git clone --depth 1 https://github.com/agaveplatform/sydney-2017-training.git $TUTORIAL_FOLDER"
   ]
  },
  {
   "cell_type": "code",
   "execution_count": null,
   "metadata": {
    "collapsed": true
   },
   "outputs": [],
   "source": [
    "# the latest notebooks should all be present\n",
    "ls -l $TUTORIAL_FOLDER | grep \".ipynb\""
   ]
  },
  {
   "cell_type": "code",
   "execution_count": null,
   "metadata": {
    "collapsed": true
   },
   "outputs": [],
   "source": [
    "# list current tutorials\n",
    "cd $HOME\n",
    "ls -l | grep \".ipynb\""
   ]
  },
  {
   "cell_type": "code",
   "execution_count": null,
   "metadata": {
    "collapsed": true
   },
   "outputs": [],
   "source": [
    "# check that the checkout completed\n",
    "if [[ -d $TUTORIAL_FOLDER ]]; then \n",
    "    # backup current tutorials\n",
    "    mkdir -p \"$HOME/work/tutorial-backup-$(date +%s)\"\n",
    "    cp $HOME/*.ipynb $HOME/work/tutorial-backup-$(date +%s)\n",
    "\n",
    "    # copy the checkout to the server root\n",
    "    cp -rf $TUTORIAL_FOLDER/*.ipynb $HOME/\n",
    "    \n",
    "    # cleanup after ourselves\n",
    "    rm -rf $TUTORIAL_FOLDER\n",
    "    \n",
    "    echo \"Tutorial notebooks successfully installed. Please go to the https://$VM_HOSTNAME/notebooks/Introduction.ipynb to begin the tutorial.\"\n",
    "else\n",
    "    echo \"Tutorial checkout directory is missing. No tutorials will be updated\"\n",
    "fi"
   ]
  },
  {
   "cell_type": "code",
   "execution_count": null,
   "metadata": {
    "collapsed": true
   },
   "outputs": [],
   "source": []
  }
 ],
 "metadata": {
  "kernelspec": {
   "display_name": "Bash",
   "language": "bash",
   "name": "bash"
  },
  "language_info": {
   "codemirror_mode": "shell",
   "file_extension": ".sh",
   "mimetype": "text/x-sh",
   "name": "bash"
  }
 },
 "nbformat": 4,
 "nbformat_minor": 2
}
