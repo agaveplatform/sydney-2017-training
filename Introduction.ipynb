{
 "cells": [
  {
   "cell_type": "markdown",
   "metadata": {},
   "source": [
    "# Hands on delivering Science-as-a-Service with the Agave Platform"
   ]
  },
  {
   "cell_type": "markdown",
   "metadata": {},
   "source": [
    "**Date:** Nov 5, 2017  \n",
    "**Time:** 1:00pm - 5:00pm  \n",
    "**Location:** Sydney Convention and Exhibition Centre - Level 4 - C4.6  \n",
    "**Registration** [OpenStack Summit](https://openstack.org/summit)   "
   ]
  },
  {
   "cell_type": "markdown",
   "metadata": {},
   "source": [
    "# Schedule  \n",
    "\n",
    "<table class=\"tg\" style=\"width: 100%\">\n",
    "  <tr>\n",
    "    <th class=\"tg-yw4l\" style=\"min-width: 150px; font-size: 1.5em; text-align:left; \">Time</th>\n",
    "    <th class=\"tg-yw4l\" style=\"min-width: 150px; font-size: 1.5em; text-align:left; \">Topic</th>\n",
    "  </tr>\n",
    "  <tr>\n",
    "    <td class=\"tg-yw4l\" style=\"text-align:left; min-width: 150px; font-size: 1.5em;\">13:00 - 13:20</td>\n",
    "    <td class=\"tg-yw4l\" style=\"text-align:left; min-width: 150px; font-size: 1.5em;\">Welcome and <a href=\"Introduction.ipynb\">Introduction</a> </td>\n",
    "  </tr>\n",
    "  <tr>\n",
    "    <td class=\"tg-yw4l\" style=\"text-align:left; min-width: 150px; font-size: 1.5em;\">13:20 - 14:00</td>\n",
    "    <td class=\"tg-yw4l\" style=\"text-align:left; min-width: 150px; font-size: 1.5em;\"> <a href=\"Agave_Overview.pdf\" target=\"_blank\">Agave overview </td>\n",
    "  </tr>\n",
    "  <tr>\n",
    "    <td class=\"tg-yw4l\" style=\"text-align:left; min-width: 150px; font-size: 1.5em;\">14:00 - 14:15</td>\n",
    "    <td class=\"tg-yw4l\" style=\"text-align:left; min-width: 150px; font-size: 1.5em;\"><a href=\"Jupyter%2C%20Sandboxes%2C%20and%20Logging%20In.ipynb\">Jupyter, Sandboxes, and Logging In</a> </td>\n",
    "  </tr>\n",
    "  <tr>\n",
    "    <td class=\"tg-yw4l\" style=\"text-align:left; min-width: 150px; font-size: 1.5em;\">14:15 - 14:45</td>\n",
    "    <td class=\"tg-yw4l\" style=\"text-align:left; min-width: 150px; font-size: 1.5em;\">Break</td>\n",
    "  </tr>\n",
    "  <tr>\n",
    "    <td class=\"tg-yw4l\" style=\"text-align:left; min-width: 150px; font-size: 1.5em;\">14:45 - 15:30</td>\n",
    "    <td class=\"tg-yw4l\" style=\"text-align:left; min-width: 150px; font-size: 1.5em;\"><a href=\"Hands%20on%20with%20the%20Agave%20CLI.ipynb\">Hands on with the Agave CLI</a></td>\n",
    "  </tr>\n",
    "  <tr>\n",
    "    <td class=\"tg-yw4l\" style=\"text-align:left; min-width: 150px; font-size: 1.5em;\">15:30 - 16:00</td>\n",
    "    <td class=\"tg-yw4l\" style=\"text-align:left; min-width: 150px; font-size: 1.5em;\"><a href=\"Publishing%20and%20sharing%20scientific%20codes.ipynb\">Publishing and sharing scientific codes</a></td>\n",
    "  </tr>\n",
    "  <tr>\n",
    "    <td class=\"tg-yw4l\" style=\"text-align:left; min-width: 150px; font-size: 1.5em;\">16:00 - 16:15</td>\n",
    "    <td class=\"tg-yw4l\" style=\"text-align:left; min-width: 150px; font-size: 1.5em;\">Break</td>\n",
    "  </tr>\n",
    "  <tr>\n",
    "    <td class=\"tg-yw4l\" style=\"text-align:left; min-width: 150px; font-size: 1.5em;\">16:15 - 16:45</td>\n",
    "    <td class=\"tg-yw4l\" style=\"text-align:left; min-width: 150px; font-size: 1.5em;\"><a href=\"Accessing%20your%20science%20as%20a%20service.ipynb\">Accessing your science as a service</a></td>\n",
    "  </tr>\n",
    "  <tr>\n",
    "    <td class=\"tg-yw4l\" style=\"text-align:left; min-width: 150px; font-size: 1.5em;\">16:45 - 17:00</td>\n",
    "    <td class=\"tg-yw4l\" style=\"text-align:left; min-width: 150px; font-size: 1.5em;\">Recap</td>\n",
    "  </tr>\n",
    "</table>"
   ]
  },
  {
   "cell_type": "markdown",
   "metadata": {},
   "source": [
    "## Presenter\n",
    "\n",
    "<h3>Rion Dooley<br><span style=\"font-size: .8em\"><a href=\"https://tacc.utexas.edu/\">Texas Advanced Computing Center</a></span></h3>\n",
    "<div style=\"width:100% margin-top: 15px;\" class=\"biography info-section\">\n",
    "<div style=\"float:left; margin-right: 15px;\" class=\"presenter-photo\">\n",
    "    <img style=\"border-radius: 50%;border: 1px solid #ccc;\" src=\"http://sc17.supercomputing.org/wp-content/linklings_snippets/presenter_pics/wp_presenter_img_735343_rion_dooley.jpg\" scale=\"0\">\n",
    "</div>\n",
    "<div style=\"font-size: 1.6rem; line-height: 1.625;font-weight: bold;\" class=\"biography-header\">Biography</div>\n",
    "<div style=\"font-size: 1.6rem; line-height: 1.625;\" class=\"presenter-biography\">Rion Dooley is principal investigator on the Agave Project a Science-as-a-Service API platform allowing researchers worldwide to manage data, run code, collaborate freely, and integrate their science anywhere. His previous projects span areas of identity management, distributed web security, full-stack application development, data management, cloud services, and high performance computing. He earned his Ph.D. in computer science from Louisiana State University. Rion actively puts his wife and two daughters at the top of his list of accomplishments. He hopes his work can someday edge out dancing teddy bears and smear-proof lipstick on their lists of favorite inventions.</div>\n",
    "</div>\n"
   ]
  },
  {
   "cell_type": "markdown",
   "metadata": {},
   "source": [
    "\n",
    "## Co-authors  \n",
    "\n",
    "<h3>Steven Brandt<br><span style=\"font-size: .8em\"><a href=\"https://cct.lsu.edu/\">Louisiana State University</a></span></h3>\n",
    "<div style=\"width:100% margin-top: 15px;\" class=\"biography info-section\">\n",
    "<div style=\"float:left; margin-right: 15px;\" class=\"presenter-photo\">\n",
    "    <img style=\"border-radius: 50%;border: 1px solid #ccc;\" src=\"http://sc17.supercomputing.org/wp-content/linklings_snippets/presenter_pics/wp_presenter_img_329153_steven_brandt.jpg\" scale=\"0\">\n",
    "</div>\n",
    "<div style=\"font-size: 1.6rem; line-height: 1.625;font-weight: bold;\" class=\"biography-header\">Biography</div>\n",
    "<div style=\"font-size: 1.6rem; line-height: 1.625;\" class=\"presenter-biography\">\n",
    "Steven Brandt obtained his Ph.D. from the University of Illinois at Champaign-Urbana for his research in numerical simulations of rotating black holes. He currently serves as an adjunct faulty member in the Department of Computer Science & Engineering and is involved in research into making parallel programming more effective. He works with the STEllAR team led by Dr. Hartmut Kaiser, and helps lead the Cactus Frameworks effort. He is PI on grants relating to Cactus Frameworks development and cyberinfrastructure for the Coastal Hazards Collaboratory.</div>\n",
    "</div>\n",
    "\n",
    "<h3>Kathy Traxler<br><span style=\"font-size: .8em\"><a href=\"https://cct.lsu.edu/\">Louisiana State University</a></span></h3>\n",
    "<div style=\"width:100% margin-top: 15px;\" class=\"biography info-section\">\n",
    "<div style=\"float:left; margin-right: 15px;\" class=\"presenter-photo\">\n",
    "    <img style=\"border-radius: 50%;border: 1px solid #ccc;\" src=\"http://sc17.supercomputing.org/wp-content/linklings_snippets/presenter_pics/wp_presenter_img_526643_kathy_traxler.png\" scale=\"0\">\n",
    "</div>\n",
    "<div style=\"font-size: 1.6rem; line-height: 1.625;font-weight: bold;\" class=\"biography-header\">Biography</div>\n",
    "<div style=\"font-size: 1.6rem; line-height: 1.625;\" class=\"presenter-biography\">Kathy Traxler is an Education, Outreach and Training coordinator for CCT. She now works with professors, who secured grants needing EOT programs, to develop and implement these programs. Kathy received her B.S. in Computer Science from Southeastern LA University in 1988. She then went to University of Southern MS and received a M.S. in Computer Science in 1991. She taught and was undergraduate advisor in LSU's Computer Science department from June of 1993 through May of 2003. when she moved to CCT to work with students and develop EOT activities.</div>\n",
    "</div>\n",
    "\n",
    "<h3>John Fonner<br><span style=\"font-size: .8em\"><a href=\"https://tacc.utexas.edu/\">Texas Advanced Computing Center</a></span></h3>\n",
    "<div style=\"width:100% margin-top: 15px;\" class=\"biography info-section\">\n",
    "<div style=\"float:left; margin-right: 15px;\" class=\"presenter-photo\">\n",
    "    <img style=\"border-radius: 50%;border: 1px solid #ccc;\" src=\"http://sc17.supercomputing.org/wp-content/linklings_snippets/presenter_pics/wp_presenter_img_534853_john_fonner.jpg\" scale=\"0\">\n",
    "</div>\n",
    "<div style=\"font-size: 1.6rem; line-height: 1.625;font-weight: bold;\" class=\"biography-header\">Biography</div>\n",
    "<div style=\"font-size: 1.6rem; line-height: 1.625;\" class=\"presenter-biography\">John Fonner earned a Ph.D. in Biomedical Engineering at the University of Texas at Austin, where he used a blend of experimental and computational techniques to study binding interactions between peptides and conducting polymers for implant applications in the nervous system. He joined the Life Sciences Computing group at TACC in 2011 and has served on a number of projects that help life sciences researchers leverage advanced computing resources, both through training and through the development of better tools and cyberinfrastructure.\n",
    "</div>\n",
    "</div>\n"
   ]
  },
  {
   "cell_type": "markdown",
   "metadata": {},
   "source": [
    "## Acknowledgement  \n",
    "\n",
    "This material is based upon work supported by the National Science Foundation Plant Cyberinfrastructure Program (DBI-0735191), the National Science Foundation Plant Genome Research Program (IOS-1237931 and IOS-1237931), the National Science Foundation Division of Biological Infrastructure (DBI-1262414), the National Science Foundation Division of Advanced CyberInfrastructure (1127210), the National Science Foundation Computing and Communication Foundations (1539567), and the National Institute of Allergy and Infectious Diseases (1R01A1097403).\n"
   ]
  },
  {
   "cell_type": "markdown",
   "metadata": {
    "collapsed": true
   },
   "source": [
    "## Special thanks\n",
    "\n",
    "Special thanks go out to ***Shuai Yuan*** for his help on the Jupyter GUI notebook. "
   ]
  }
 ],
 "metadata": {
  "kernelspec": {
   "display_name": "Python 3",
   "language": "python",
   "name": "python3"
  },
  "language_info": {
   "codemirror_mode": {
    "name": "ipython",
    "version": 3
   },
   "file_extension": ".py",
   "mimetype": "text/x-python",
   "name": "python",
   "nbconvert_exporter": "python",
   "pygments_lexer": "ipython3",
   "version": "3.6.2"
  }
 },
 "nbformat": 4,
 "nbformat_minor": 2
}
