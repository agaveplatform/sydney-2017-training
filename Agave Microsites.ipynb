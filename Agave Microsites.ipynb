{
 "cells": [
  {
   "cell_type": "markdown",
   "metadata": {},
   "source": [
    "# Agave Microsites Quickstart\n",
    "\n",
    "Agave ToGo Microsites are small, single-purpose web applications designed to service a small to medium sized group of users. Their primary goal is to provide a focused user experience around a single action or process. Whereas the Agave ToGo project provides a full-feature web interface to the Agave Platform, Agave ToGo microsites streamline the user's focus to a single, specific task. The first microsite focuses on running and managing a computational task. Additional microsites focused on data management, data collections, and task automation are currently under development.   \n",
    "\n",
    "This tutorial will walk you through the installation and configuration of a computational microsite. By the end of the tutorial, you will have a functional science gateway allowing you to run arbitrary \n",
    "\n",
    "\n",
    " \n",
    "### Installing\n",
    "\n",
    "The microsites use several popular website packaging and dependency management tools support better software engineering and help establish best practices for new developers.  \n",
    "    \n",
    "* [node](https://nodejs.org/) - Node.js® is a JavaScript runtime built on Chrome's V8 JavaScript engine.  \n",
    "* [node package manager](https://www.npmjs.com/) (npm) - Installs, publishes and manages node programs.  \n",
    "* [bower](https://bower.io/) - Package management for javascript.  \n",
    "* [sass](http://sass-lang.com/) - Sass is the most mature, stable, and powerful professional grade CSS extension language in the world.  \n",
    "* [gulp](http://gulpjs.com/) - The streaming build system.\n",
    "\n",
    "To install all the project prerequisites, run the following:  \n",
    "\n",
    "```\n",
    "cd web  \n",
    "npm install  \n",
    "bower install\n",
    "```  \n",
    "\n",
    "### Building\n",
    "\n",
    "To build the source, minify all relevant files, and prepare for release, run the following gulp command:\n",
    "\n",
    "```\n",
    "gulp sass:watch\n",
    "```\n",
    "\n",
    "If you are developing and would like the css to be rebuilt on each change, run the alternate command:\n",
    "\n",
    "```\n",
    "gulp sass:watch  \n",
    "```  \n",
    "\n",
    "### Deploying  \n",
    " \n",
    "Each microsite is sufficiently self-contained that it can be deployed as a static web application which can be served from any publicly accessible web host such as a GitHub pages, Dropbox, Google Drive, or even a folder you make publicly accessible through the Agave Platform. You simply need to copy the contents of the `web` folder to your hosting location.\n",
    " \n",
    "We have also bundled a web server into the gulp config, so you can bring the site up at [http://localhost:8080/app] by running the following command:  \n",
    " \n",
    "```\n",
    "gulp localhost\n",
    "\n",
    "``` \n",
    "\n",
    "### Configuring  \n",
    "\n",
    "The microsites were designed to provide flexible styling and customization options. You can change the look and feel of the UI by using the theme settings dialog built into the website. To customize the site behavior, you can edit the `config.js` file in the ` \n"
   ]
  },
  {
   "cell_type": "code",
   "execution_count": 1,
   "metadata": {},
   "outputs": [
    {
     "name": "stdout",
     "output_type": "stream",
     "text": [
      "{\r\n",
      "  \"tenantid\": \"agave.prod\",\r\n",
      "  \"baseurl\": \"https://public.agaveapi.co\",\r\n",
      "  \"devurl\": \"\",\r\n",
      "  \"apisecret\": \"8ofIXYXQd7r0mfitrJfuPjZ8eoIa\",\r\n",
      "  \"apikey\": \"3ZeUK9NLpfWfVYItsoQA8O3MOvAa\",\r\n",
      "  \"username\": \"dooley\",\r\n",
      "  \"access_token\": \"62a236fed114ed1e0ef779085618b86\",\r\n",
      "  \"refresh_token\": \"74d8c32401454a617d215731e9e0d6\",\r\n",
      "  \"created_at\": \"1477931528\",\r\n",
      "  \"expires_in\": \"14400\",\r\n",
      "  \"expires_at\": \"Mon Oct 31 20:32:08 UTC 2016\"\r\n",
      "}\r\n"
     ]
    }
   ],
   "source": [
    "auth-check -v"
   ]
  },
  {
   "cell_type": "code",
   "execution_count": 3,
   "metadata": {},
   "outputs": [
    {
     "name": "stdout",
     "output_type": "stream",
     "text": [
      "\u001b[1;0mToken for agave.prod:dooley successfully refreshed and cached for 14400 seconds\r\n",
      "698738d10b4f74dff56fd6a33a83cd\u001b[0m\r\n"
     ]
    }
   ],
   "source": [
    "auth-tokens-refresh "
   ]
  },
  {
   "cell_type": "code",
   "execution_count": 12,
   "metadata": {},
   "outputs": [
    {
     "name": "stdout",
     "output_type": "stream",
     "text": []
    }
   ],
   "source": [
    "cd work"
   ]
  },
  {
   "cell_type": "code",
   "execution_count": 13,
   "metadata": {},
   "outputs": [
    {
     "name": "stdout",
     "output_type": "stream",
     "text": [
      "api           contributors.txt         docker-compose.yml  README.md\r\n",
      "CHANGELOG.md  docker-compose.test.yml  Dockerfile          web\r\n"
     ]
    }
   ],
   "source": [
    "git clone https://github.com/agaveplatform/microsites.git "
   ]
  },
  {
   "cell_type": "code",
   "execution_count": 14,
   "metadata": {},
   "outputs": [
    {
     "name": "stdout",
     "output_type": "stream",
     "text": [
      ".\r\n",
      "AbstractSoftwareResource.java\r\n",
      "archive\r\n",
      "picksumipsum.txt\r\n",
      "togo-micro-app\r\n",
      "Zihuatanejo\r\n"
     ]
    }
   ],
   "source": [
    "files-list -S $VM_IPADDRESS-storage-$AGAVE_USERNAME  "
   ]
  },
  {
   "cell_type": "code",
   "execution_count": 18,
   "metadata": {},
   "outputs": [
    {
     "name": "stdout",
     "output_type": "stream",
     "text": [
      "\u001b[1;0mSuccessfully updated permission for WORLD\u001b[0m\r\n"
     ]
    }
   ],
   "source": [
    "files-pems-update -R -u WORLD -p READ -S $VM_IPADDRESS-storage-$AGAVE_USERNAME work/microsites/web"
   ]
  },
  {
   "cell_type": "code",
   "execution_count": 19,
   "metadata": {},
   "outputs": [
    {
     "name": "stdout",
     "output_type": "stream",
     "text": [
      "\u001b[1;0mdata.agaveapi.co\u001b[0m\r\n"
     ]
    }
   ],
   "source": [
    "systems-list -S "
   ]
  },
  {
   "cell_type": "code",
   "execution_count": 21,
   "metadata": {},
   "outputs": [
    {
     "name": "stdout",
     "output_type": "stream",
     "text": [
      "[\r\n",
      "  {\r\n",
      "    \"username\": \"PUBLIC\",\r\n",
      "    \"internalUsername\": null,\r\n",
      "    \"permission\": {\r\n",
      "      \"read\": true,\r\n",
      "      \"write\": false,\r\n",
      "      \"execute\": false\r\n",
      "    },\r\n",
      "    \"recursive\": true,\r\n",
      "    \"_links\": {\r\n",
      "      \"self\": {\r\n",
      "        \"href\": \"https://public.agaveapi.co/files/v2/pems/system/data.agaveapi.co/dooley/togo-micro-app/web?username.eq=PUBLIC\"\r\n",
      "      },\r\n",
      "      \"file\": {\r\n",
      "        \"href\": \"https://public.agaveapi.co/files/v2/media/system/data.agaveapi.co/dooley/togo-micro-app/web\"\r\n",
      "      },\r\n",
      "      \"profile\": {\r\n",
      "        \"href\": \"https://public.agaveapi.co/profiles/v2/PUBLIC\"\r\n",
      "      }\r\n",
      "    }\r\n",
      "  },\r\n",
      "  {\r\n",
      "    \"username\": \"WORLD\",\r\n",
      "    \"internalUsername\": null,\r\n",
      "    \"permission\": {\r\n",
      "      \"read\": true,\r\n",
      "      \"write\": false,\r\n",
      "      \"execute\": false\r\n",
      "    },\r\n",
      "    \"recursive\": true,\r\n",
      "    \"_links\": {\r\n",
      "      \"self\": {\r\n",
      "        \"href\": \"https://public.agaveapi.co/files/v2/pems/system/data.agaveapi.co/dooley/togo-micro-app/web?username.eq=WORLD\"\r\n",
      "      },\r\n",
      "      \"file\": {\r\n",
      "        \"href\": \"https://public.agaveapi.co/files/v2/media/system/data.agaveapi.co/dooley/togo-micro-app/web\"\r\n",
      "      },\r\n",
      "      \"profile\": {\r\n",
      "        \"href\": \"https://public.agaveapi.co/profiles/v2/WORLD\"\r\n",
      "      }\r\n",
      "    }\r\n",
      "  },\r\n",
      "  {\r\n",
      "    \"username\": \"dooley\",\r\n",
      "    \"internalUsername\": null,\r\n",
      "    \"permission\": {\r\n",
      "      \"read\": true,\r\n",
      "      \"write\": true,\r\n",
      "      \"execute\": true\r\n",
      "    },\r\n",
      "    \"recursive\": true,\r\n",
      "    \"_links\": {\r\n",
      "      \"self\": {\r\n",
      "        \"href\": \"https://public.agaveapi.co/files/v2/pems/system/data.agaveapi.co/dooley/togo-micro-app/web?username.eq=dooley\"\r\n",
      "      },\r\n",
      "      \"file\": {\r\n",
      "        \"href\": \"https://public.agaveapi.co/files/v2/media/system/data.agaveapi.co/dooley/togo-micro-app/web\"\r\n",
      "      },\r\n",
      "      \"profile\": {\r\n",
      "        \"href\": \"https://public.agaveapi.co/profiles/v2/dooley\"\r\n",
      "      }\r\n",
      "    }\r\n",
      "  }\r\n",
      "]\r\n"
     ]
    }
   ],
   "source": [
    "files-pems-list -v -S $VM_IPADDRESS-storage-$AGAVE_USERNAME  work/microsites/web"
   ]
  },
  {
   "cell_type": "code",
   "execution_count": 27,
   "metadata": {},
   "outputs": [
    {
     "name": "stdout",
     "output_type": "stream",
     "text": [
      "dooley READ WRITE EXECUTE \r\n",
      "public READ \r\n"
     ]
    }
   ],
   "source": [
    "files-pems-list -S $VM_IPADDRESS-storage-$AGAVE_USERNAME work/microsites/web/app/index.html"
   ]
  },
  {
   "cell_type": "code",
   "execution_count": null,
   "metadata": {},
   "outputs": [],
   "source": [
    "postits-create -m 1000 \"https://agaveauth.solveij.com/files/v2/download/$AGAVE_USERNAME/system/$VM_IPADDRESS-storage-$AGAVE_USERNAME/work/microsites/web/package.json\""
   ]
  },
  {
   "cell_type": "code",
   "execution_count": 31,
   "metadata": {},
   "outputs": [
    {
     "name": "stdout",
     "output_type": "stream",
     "text": []
    }
   ],
   "source": [
    "alias gulp=\"$PWD/node_modules/gulp/bin/gulp.js\""
   ]
  },
  {
   "cell_type": "code",
   "execution_count": 32,
   "metadata": {},
   "outputs": [
    {
     "name": "stdout",
     "output_type": "stream",
     "text": []
    }
   ],
   "source": [
    "alias bower=\"$PWD/node_modules/bower/bin/bower\""
   ]
  },
  {
   "cell_type": "code",
   "execution_count": 34,
   "metadata": {},
   "outputs": [
    {
     "name": "stdout",
     "output_type": "stream",
     "text": []
    }
   ],
   "source": [
    "cd microsites"
   ]
  },
  {
   "cell_type": "code",
   "execution_count": 35,
   "metadata": {},
   "outputs": [
    {
     "name": "stdout",
     "output_type": "stream",
     "text": [
      "bash: npm: command not found\r\n"
     ]
    }
   ],
   "source": [
    "npm install\n",
    "bower install"
   ]
  },
  {
   "cell_type": "code",
   "execution_count": 4,
   "metadata": {},
   "outputs": [
    {
     "name": "stdout",
     "output_type": "stream",
     "text": [
      "\u001b[1;0mSuccessfully updated permission for public\u001b[0m\r\n"
     ]
    }
   ],
   "source": [
    "files-pems-update -R -u public -p -S $VM_IPADDRESS-storage-$AGAVE_USERNAME READ work/microsites/web"
   ]
  },
  {
   "cell_type": "markdown",
   "metadata": {
    "collapsed": true
   },
   "source": [
    "Open up the site in your browser at: https://agaveauth.solveij.com/files/v2/download/$AGAVE_USERNAME/system/$VM_IPADDRESS-storage-$AGAVE_USERNAME/work/microsites/web/app/"
   ]
  },
  {
   "cell_type": "code",
   "execution_count": null,
   "metadata": {
    "collapsed": true
   },
   "outputs": [],
   "source": []
  }
 ],
 "metadata": {
  "kernelspec": {
   "display_name": "Bash",
   "language": "bash",
   "name": "bash"
  },
  "language_info": {
   "codemirror_mode": "shell",
   "file_extension": ".sh",
   "mimetype": "text/x-sh",
   "name": "bash"
  }
 },
 "nbformat": 4,
 "nbformat_minor": 1
}
